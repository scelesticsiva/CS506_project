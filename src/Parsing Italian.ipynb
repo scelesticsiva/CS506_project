{
 "cells": [
  {
   "cell_type": "code",
   "execution_count": 1,
   "metadata": {},
   "outputs": [],
   "source": [
    "cuisine = 'italian'\n",
    "\n",
    "def pruning_function(business):\n",
    "    for category in business['categories']:\n",
    "        if category.lower() == cuisine:\n",
    "            return True"
   ]
  },
  {
   "cell_type": "code",
   "execution_count": 2,
   "metadata": {},
   "outputs": [],
   "source": [
    "import json\n",
    "import pandas as pd\n",
    "mexican_restaurants = []\n",
    "restaurant_ids = set()\n",
    "\n",
    "with open('../data/business.json') as data_file:    \n",
    "    all_businesses = [json.loads(line) for line in list(data_file)]\n",
    "    restaurants_list = list(filter(pruning_function, all_businesses))\n",
    "    for line in restaurants_list:\n",
    "        mexican_restaurants.append({'business_id': line['business_id'], 'name': line['name']})\n",
    "        restaurant_ids.add(line['business_id'])\n",
    "mexican_restaurants = pd.DataFrame(mexican_restaurants)"
   ]
  },
  {
   "cell_type": "code",
   "execution_count": 3,
   "metadata": {},
   "outputs": [],
   "source": [
    "import numpy as np\n",
    "reviews = []\n",
    "with open('../data/review.json', encoding=\"utf8\") as data_file:\n",
    "    count = 0\n",
    "    for line in (data_file):\n",
    "        row = json.loads(line)\n",
    "        if row['business_id'] in restaurant_ids:\n",
    "            reviews.append({'business_id':row['business_id'],'text':row['text']})\n",
    "reviews = pd.DataFrame(reviews)"
   ]
  },
  {
   "cell_type": "code",
   "execution_count": 4,
   "metadata": {},
   "outputs": [],
   "source": [
    "def clean_review(topic, review, n=4):\n",
    "    phrases_list = []\n",
    "    size = len(review)\n",
    "    for index, word in enumerate(review):\n",
    "        if word == topic:        \n",
    "            if index - n >= 0:\n",
    "                before_portion = review[index-n:index]\n",
    "            else:\n",
    "                before_portion = review[0:index]\n",
    "            if index + n + 1 < size:\n",
    "                after_portion = review[index:index + n +1]\n",
    "            else:\n",
    "                after_portion = review[index:size]\n",
    "            phrases_list.append(\" \".join(before_portion + after_portion).lower())\n",
    "    return(phrases_list)\n",
    "\n",
    "\n"
   ]
  },
  {
   "cell_type": "code",
   "execution_count": 5,
   "metadata": {},
   "outputs": [],
   "source": [
    "from nltk.corpus import stopwords\n",
    "stops = set(stopwords.words(\"english\"))\n",
    "\n",
    "def remove_stop_words(review, stop_words = stops):\n",
    "    return [word for word in review if word not in stops]\n"
   ]
  },
  {
   "cell_type": "code",
   "execution_count": 6,
   "metadata": {},
   "outputs": [],
   "source": [
    "from nltk.stem.snowball import SnowballStemmer\n",
    "stemmer = SnowballStemmer(\"english\", ignore_stopwords=True)\n",
    "\n",
    "import string\n",
    "translator =  str.maketrans('', '', string.punctuation)\n",
    "\n",
    "temp = pd.merge(reviews, mexican_restaurants)\n",
    "# for review in reviews:\n",
    "count = 0\n",
    "\n",
    "# print(temp)\n"
   ]
  },
  {
   "cell_type": "code",
   "execution_count": 7,
   "metadata": {},
   "outputs": [],
   "source": [
    "from nltk.corpus import stopwords\n",
    "stops = set(stopwords.words(\"english\"))\n",
    "\n",
    "stops.add('br')\n",
    "from nltk.stem.snowball import SnowballStemmer\n",
    "stemmer = SnowballStemmer(\"english\", ignore_stopwords=True)\n",
    "\n",
    "import string\n",
    "translator =  str.maketrans('', '', string.punctuation)\n",
    "\n",
    "\n",
    "def remove_stop_words(review):\n",
    "    middle = [stemmer.stem(word) for word in review.translate(translator).lower().split()]\n",
    "    return ' '.join([word for word in middle if word not in stops])\n"
   ]
  },
  {
   "cell_type": "code",
   "execution_count": 8,
   "metadata": {},
   "outputs": [],
   "source": [
    "import numpy as np\n",
    "reviews = []\n",
    "with open('../data/review.json', encoding=\"utf8\") as data_file:\n",
    "    count = 0\n",
    "    for line in (data_file):\n",
    "        row = json.loads(line)\n",
    "        if row['business_id'] in restaurant_ids:\n",
    "            reviews.append({'business_id':row['business_id'],'text':row['text']})\n",
    "reviews = pd.DataFrame(reviews)"
   ]
  },
  {
   "cell_type": "code",
   "execution_count": 9,
   "metadata": {},
   "outputs": [
    {
     "name": "stdout",
     "output_type": "stream",
     "text": [
      "                   business_id  \\\n",
      "0       VR6GpWIda3SfvPC-lg9H3w   \n",
      "1       7Uti5EeAwm3drG14KVrE3Q   \n",
      "2       S5bNE4Pmin8OQUMOFod8bQ   \n",
      "3       0Rni7ocMC_Lg2UH0lDeKMQ   \n",
      "4       NUHNLaMg7aMesMdAiie73w   \n",
      "5       pOEL97ld-FJMKO8Ki8JmYg   \n",
      "6       M8_C-be43AQsH_sEgLPFPg   \n",
      "7       6Toez65egZSMV1iohQWGIQ   \n",
      "8       bKh66jlEqEKZZFkjWipt8w   \n",
      "9       hZuRyS8IXXuEQkUCas9O1Q   \n",
      "10      QJg8AuqITB4t_iKrLI6tOw   \n",
      "11      vUqIE5La92aMJrY8kGgwsw   \n",
      "12      MZ4EEf4VtkeSJURIGgp2AQ   \n",
      "13      S5bNE4Pmin8OQUMOFod8bQ   \n",
      "14      pvCcrHFAGCml492qoQBsQg   \n",
      "15      q3dJQtwZQrrurNT-1bNKgQ   \n",
      "16      So132GP_uy3XbGs0KNyzyw   \n",
      "17      60uVlCUiLJvq3xNo_3bhQQ   \n",
      "18      PSRZaGGxXmOmabL2si8pKw   \n",
      "19      i53HvxUdQEMllZ1XmpjjyA   \n",
      "20      v5YvCuj_b26JKAqDcnReFQ   \n",
      "21      Yo8ODT7aFMM2xKUd1yaBVw   \n",
      "22      k8BqCejnaMlw7aoVthvqyw   \n",
      "23      wPiRP76arN0NB3M1ZXXp7g   \n",
      "24      DESv2ys6SjBKA4SyDtJvxw   \n",
      "25      9IpKGHaPy3hhXo9g5Bt7lg   \n",
      "26      K7fip0nDFFdCC7OCnNOotQ   \n",
      "27      VfFHPsPtTW4Mgx0eHDyJiQ   \n",
      "28      q-YQIvBSNZxYJl1xuB0H_w   \n",
      "29      SsN-SaGGkJn2Qm-jSDQ4aQ   \n",
      "...                        ...   \n",
      "291728  oX7lSVsg4j7-SrSZVGWVnA   \n",
      "291729  5ykOWYZ44sUvu9qxD8rPeg   \n",
      "291730  sHnN3JliwVWvGX76Odmlbw   \n",
      "291731  LOEZ8zDGly7s-laA1OBIEw   \n",
      "291732  A7waf6G3cvnLfAqKeLL8DA   \n",
      "291733  hcHaWzM5wfdAbCWs4zmmqg   \n",
      "291734  5apdm04cXW_4r_ShWmC9dw   \n",
      "291735  oJSa5HCiZXKLXxggQmecEQ   \n",
      "291736  1Q812VI7asWrVxtq3BxJiw   \n",
      "291737  esBRj9uPRzwxaW4Lz1XGLA   \n",
      "291738  u9R0_pvEkl7QGPJYH3j1sg   \n",
      "291739  -6h3K1hj0d4DRcZNUtHDuw   \n",
      "291740  iwzVhM5CirzkNS5wTxwZeA   \n",
      "291741  JBrBsKpw0bbXK5nlrXVOYQ   \n",
      "291742  IkLAUX7lZIWqE9_YC66SRw   \n",
      "291743  muvmtEIt9XhDkMwYwALSGA   \n",
      "291744  aYjZc-3aVbPIPaJgGiUK_A   \n",
      "291745  7iZYl52Gtica73shRYsuMQ   \n",
      "291746  fhx1yUZlC1QwovIjdYeGiw   \n",
      "291747  lwxYmWqjmEZ0ukCsXC9Pfg   \n",
      "291748  SeNOJ2zYHziptxLuiRINLg   \n",
      "291749  duw-3Aj7gAKbQG-isS5UtQ   \n",
      "291750  Tf13Wexrt6WmNw-CDW5Gyg   \n",
      "291751  w12x7UBSSRsdbp3ZqguG3Q   \n",
      "291752  tYbK94fl50os3h_RjpY4gw   \n",
      "291753  q3dJQtwZQrrurNT-1bNKgQ   \n",
      "291754  iPxDmZVbssspPtUEBnUyQw   \n",
      "291755  Sm2k1ijcnK17Ro5paN2_qQ   \n",
      "291756  yGd87bkFijZ6YHrHtW5maA   \n",
      "291757  pOEL97ld-FJMKO8Ki8JmYg   \n",
      "\n",
      "                                                     text  \n",
      "0       Small unassuming place that changes their menu...  \n",
      "1       Atmosphere for this restaurant is nice but ser...  \n",
      "2       Came here for a friend's birthday. She had loo...  \n",
      "3       This place is always so dirty and grimy, been ...  \n",
      "4       OK is sort of the perfect description of this ...  \n",
      "5       Okay, so my rating has gone down from the firs...  \n",
      "6       I was so surprised to see the negative reviews...  \n",
      "7       I went here for the first time yesterday night...  \n",
      "8       Came here with my mother, husband and baby for...  \n",
      "9       Went with my friend, who told me she really li...  \n",
      "10      Went here on a bit of a whim...just looked up ...  \n",
      "11      I mean, here's the thing....the pizza was real...  \n",
      "12      I wish there was the option to give half stars...  \n",
      "13      I actually think this restaurant deserves a 3-...  \n",
      "14      WHY is this place not closer to me?? Actually,...  \n",
      "15      We've been wanting to try this restaurant for ...  \n",
      "16      I've eaten here a couple of times. Great food!...  \n",
      "17      Friendly staff. Clean place. \\n\\nVisited with ...  \n",
      "18      I've been here a half a dozen times. Always a ...  \n",
      "19      So I got home last night and was craving somet...  \n",
      "20      Decided to take a drive out to Boulder City to...  \n",
      "21      This gem is tucked away in an alley at Green V...  \n",
      "22      I've been here twice, and have had great food ...  \n",
      "23      If you're in the Venetian, this place is defin...  \n",
      "24      I haven't had any of the food here yet, but th...  \n",
      "25      I've been to their Henderson location, for whi...  \n",
      "26      I came here to play music for a private event,...  \n",
      "27      Such a cool place!  Love to just hang here, re...  \n",
      "28      This has got to be the best pizza we have ever...  \n",
      "29      We made dinner reservations here for our group...  \n",
      "...                                                   ...  \n",
      "291728  Another great meal at Babbos! If you're lookin...  \n",
      "291729  As close as it gets to a real Italian pizza he...  \n",
      "291730  Everything I hoped for and more! Great vibe, h...  \n",
      "291731  The place was recommended to my boyfriend by a...  \n",
      "291732  Place is alright, definitely not what everyone...  \n",
      "291733  We went here for lunch with 4 people and order...  \n",
      "291734  Perfect place for ordering delivery on a Sunda...  \n",
      "291735  Food, service and environment was pretty good!...  \n",
      "291736  The pizza is pretty good. I'm not a huge fan o...  \n",
      "291737  One star for terrible food and slow service. \\...  \n",
      "291738  We always get good service and great food here...  \n",
      "291739  Pasta is okay, but the salad is really good I ...  \n",
      "291740  Happy hour on a sat!! i'm a fan!! \\n\\nCold bee...  \n",
      "291741  Really good wings yummm so good!! such yummy r...  \n",
      "291742  The smell brought us in while on our way to an...  \n",
      "291743  The pizza is really good!  They make the dough...  \n",
      "291744  Note: make reservations as seating is limited....  \n",
      "291745  Francesca's is a great place to dine with a sm...  \n",
      "291746  We went to celebrate my daughter's birthday wi...  \n",
      "291747  Decided to check out this famous Chicago pizza...  \n",
      "291748  I'm a fan of Julian Serrano restaurants. Decid...  \n",
      "291749  Love how this place is opened late. Came here ...  \n",
      "291750  Written a while back:\\n\\nLast week, I went wit...  \n",
      "291751  I had lunch here today and it was the worst sa...  \n",
      "291752  It has been difficult for us to find yummy foo...  \n",
      "291753  We had a romantic lunch. We loved the singer w...  \n",
      "291754  Yes, I have the app. Yes, I order conveniently...  \n",
      "291755  We ordered the Four Course Special and are ver...  \n",
      "291756  We have ordered a couple times and are impress...  \n",
      "291757  Spring rolls was pretty good, cod was a bit ra...  \n",
      "\n",
      "[291758 rows x 2 columns]\n"
     ]
    }
   ],
   "source": [
    "print(reviews)"
   ]
  },
  {
   "cell_type": "code",
   "execution_count": null,
   "metadata": {},
   "outputs": [],
   "source": []
  },
  {
   "cell_type": "code",
   "execution_count": null,
   "metadata": {},
   "outputs": [],
   "source": []
  },
  {
   "cell_type": "code",
   "execution_count": null,
   "metadata": {},
   "outputs": [],
   "source": []
  },
  {
   "cell_type": "code",
   "execution_count": 19,
   "metadata": {},
   "outputs": [],
   "source": [
    "# import matplotlib.pyplot as plt\n",
    "import numpy as np\n",
    "# import seaborn as sns\n",
    "# sns.set(color_codes=True)\n",
    "# %matplotlib qt \n",
    "\n",
    "# # print(positive_scores)\n",
    "\n",
    "# plt.figure(figsize=(20,10))\n",
    "# xs = np.arange(len(bar.index.tolist()))\n",
    "# width = 0.5\n",
    "# plt.bar(xs, bar, width, align='center')\n",
    "\n",
    "# _ = plt.xticks(xs, bar.index.tolist(), rotation='vertical') "
   ]
  },
  {
   "cell_type": "code",
   "execution_count": 26,
   "metadata": {},
   "outputs": [
    {
     "name": "stdout",
     "output_type": "stream",
     "text": [
      "['pizza', 'food', 'good', 'place', 'order', 'great', 'servic', 'time', 'like', 'restaur', 'go', 'one', 'get', 'back', 'would', 'tri', 'us', 'realli', 'friend', 'love', 'sauc', 'pasta', 'italian', 'salad', 'nice', 'also', 'even', 'come', 'tabl', 'delici', 'best', 'wait', 'menu', 'well', 'got', 'came', 'make', 'dish', 'tast', 'chees', 'price', 'eat', 'bread', 'meal', 'littl', 'want', 'dinner', 'dont', 'look', 'im', 'amaz', 'ask', 'wine', 'chicken', 'night', 'didnt', 'ive', 'server', 'fresh', 'definit', 'alway', 'made', 'first', 'went', 'experi', 'staff', 'perfect', 'could', 'drink', 'recommend', 'much', 'say', 'never', 'better', 'top', 'enjoy', 'take', 'two', 'pretti', 'flavor', 'thing', 'serv', 'peopl', 'minut', 'know', 'lunch', 'think', 'bar', 'special', 'way', 'star', 'give', 'seat', 'said', 'excel', 'right', 'dessert', 'ever', 'crust', 'bit']\n"
     ]
    }
   ],
   "source": [
    "reviews['text'] = reviews['text'].apply(remove_stop_words)\n",
    "bar = pd.Series(' '.join(reviews['text']).split()).value_counts()[:100]\n",
    "print(bar.index.tolist())"
   ]
  },
  {
   "cell_type": "code",
   "execution_count": 21,
   "metadata": {},
   "outputs": [],
   "source": [
    "# topics = set(['food', 'taco', 'place', 'order', 'servic', 'salsa', 'restaur', 'burrito', 'chip', 'chicken',\n",
    "#  'bar', 'tortilla', 'bean', 'guacamol', 'experi', 'drink', 'sauc', 'margarita', 'meat', 'server'])\n",
    "# print(len(topics))\n",
    "topics = set(['pizza', 'food', 'place', 'order', 'servic', 'restaur', 'sauc', 'pasta', 'salad', 'tabl',\n",
    "              'dish', 'chees', 'bread', 'meal', 'wine', 'chicken', 'server', 'staff', 'drink', 'dessert' ])"
   ]
  },
  {
   "cell_type": "code",
   "execution_count": 25,
   "metadata": {},
   "outputs": [],
   "source": [
    "import csv\n",
    "mexican_dict = {row[1]: topics for row in mexican_restaurants.itertuples()}\n",
    "with open('./restaurant_topics/italians.csv', 'w') as csv_file:\n",
    "    writer = csv.writer(csv_file)\n",
    "    for key, value in mexican_dict.items():\n",
    "        writer.writerow([key, value])"
   ]
  },
  {
   "cell_type": "code",
   "execution_count": 17,
   "metadata": {},
   "outputs": [],
   "source": [
    "# from nltk.stem.snowball import SnowballStemmer\n",
    "# stemmer = SnowballStemmer(\"english\", ignore_stopwords=True)\n",
    "\n",
    "# import string\n",
    "# translator =  str.maketrans('', '', string.punctuation)\n",
    "\n",
    "# temp = pd.merge(reviews, mexican_restaurants)\n",
    "# # for review in reviews:\n",
    "# count = 0\n",
    "\n",
    "# for row in temp.groupby('business_id'):\n",
    "#     for review in row[1]['text']:\n",
    "#         for topic in topics:\n",
    "#             if topic in review:\n",
    "#                 cleaned_review = clean_review(topic, remove_stop_words(review.translate(translator).split()), 5)\n",
    "\n"
   ]
  },
  {
   "cell_type": "code",
   "execution_count": null,
   "metadata": {},
   "outputs": [],
   "source": []
  }
 ],
 "metadata": {
  "kernelspec": {
   "display_name": "Python 3",
   "language": "python",
   "name": "python3"
  },
  "language_info": {
   "codemirror_mode": {
    "name": "ipython",
    "version": 3
   },
   "file_extension": ".py",
   "mimetype": "text/x-python",
   "name": "python",
   "nbconvert_exporter": "python",
   "pygments_lexer": "ipython3",
   "version": "3.6.4"
  }
 },
 "nbformat": 4,
 "nbformat_minor": 2
}
