{
 "cells": [
  {
   "cell_type": "code",
   "execution_count": 21,
   "metadata": {},
   "outputs": [],
   "source": [
    "from keras.models import model_from_json\n",
    "from keras.preprocessing.text import Tokenizer\n",
    "from keras.preprocessing.sequence import pad_sequences\n",
    "#model_location = './Model/MLP_model.json'\n",
    "#weights_location = './Model/MLP_model.h5'\n",
    "\n",
    "def get_word_embedding(DIR):    \n",
    "    d = {}\n",
    "    f = open(DIR)\n",
    "    for line in f:\n",
    "        v = line.split()\n",
    "        word = v[0]\n",
    "        vec = np.asarray(v[1:], dtype='float32')\n",
    "        d[word] = vec\n",
    "    f.close()\n",
    "    return d\n",
    "word_embeddings = get_word_embedding(GLOVE_DIR)"
   ]
  },
  {
   "cell_type": "code",
   "execution_count": 22,
   "metadata": {
    "collapsed": true
   },
   "outputs": [],
   "source": [
    "model_location = './Model/B_LSTM_model.json'\n",
    "weights_location = './Model/B_LSTM_model.h5'\n",
    "GLOVE_DIR = \"./Glove/glove.6B.100d.txt\"\n",
    "MAX_LENGTH = 1000\n",
    "MAX_NB_WORDS = 20000"
   ]
  },
  {
   "cell_type": "code",
   "execution_count": 11,
   "metadata": {
    "collapsed": true
   },
   "outputs": [],
   "source": [
    "def predict(X,model_location,weights_location):\n",
    "    # load json and create model\n",
    "    json_file = open(model_location, 'r')\n",
    "    loaded_model_json = json_file.read()\n",
    "    json_file.close()\n",
    "    loaded_model = model_from_json(loaded_model_json)\n",
    "    # load weights into new model\n",
    "    loaded_model.load_weights(weights_location)\n",
    "    print(\"Loaded model from disk\")\n",
    "\n",
    "    # predict test data\n",
    "    result = loaded_model.predict(X)\n",
    "    return result\n",
    "\n",
    "def sequence_texts(MAX_NB_WORDS,MAX_LENGTH,texts):\n",
    "    tokenizer = Tokenizer(num_words=MAX_NB_WORDS)\n",
    "    tokenizer.fit_on_texts(texts)\n",
    "    sequences = tokenizer.texts_to_sequences(texts)\n",
    "    word_index = tokenizer.word_index\n",
    "    data = pad_sequences(sequences, maxlen=MAX_LENGTH)\n",
    "    indices = np.arange(data.shape[0])\n",
    "    np.random.shuffle(indices)\n",
    "    data = data[indices]\n",
    "    \n",
    "    return data, indices\n",
    "\n",
    "#data, indices = sequence_texts(MAX_NB_WORDS,MAX_LENGTH,texts)  "
   ]
  },
  {
   "cell_type": "code",
   "execution_count": 25,
   "metadata": {},
   "outputs": [
    {
     "name": "stdout",
     "output_type": "stream",
     "text": [
      "Loaded model from disk\n",
      "[[ 0.49377984  0.5062201 ]\n",
      " [ 0.76502347  0.23497656]\n",
      " [ 0.11125891  0.88874114]]\n"
     ]
    }
   ],
   "source": [
    "texts = ['hahah, you are the worst.','best pizza ever','no taste']\n",
    "X, indices = sequence_texts(MAX_NB_WORDS,MAX_LENGTH,texts)\n",
    "test = predict(X, model_location, weights_location)\n",
    "print(test)"
   ]
  },
  {
   "cell_type": "code",
   "execution_count": 15,
   "metadata": {},
   "outputs": [
    {
     "data": {
      "text/plain": [
       "(1, 1000)"
      ]
     },
     "execution_count": 15,
     "metadata": {},
     "output_type": "execute_result"
    }
   ],
   "source": [
    "X.shape"
   ]
  },
  {
   "cell_type": "code",
   "execution_count": null,
   "metadata": {
    "collapsed": true
   },
   "outputs": [],
   "source": []
  }
 ],
 "metadata": {
  "kernelspec": {
   "display_name": "Python 3",
   "language": "python",
   "name": "python3"
  },
  "language_info": {
   "codemirror_mode": {
    "name": "ipython",
    "version": 3
   },
   "file_extension": ".py",
   "mimetype": "text/x-python",
   "name": "python",
   "nbconvert_exporter": "python",
   "pygments_lexer": "ipython3",
   "version": "3.6.3"
  }
 },
 "nbformat": 4,
 "nbformat_minor": 2
}
