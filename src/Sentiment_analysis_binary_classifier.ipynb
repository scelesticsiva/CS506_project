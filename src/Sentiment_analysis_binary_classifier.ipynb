{
 "cells": [
  {
   "cell_type": "code",
   "execution_count": 3,
   "metadata": {},
   "outputs": [],
   "source": [
    "# import all the necessary libs\n",
    "import numpy as np\n",
    "import pandas as pd\n",
    "import re\n",
    "import os\n",
    "from bs4 import BeautifulSoup\n",
    "from keras.preprocessing.text import Tokenizer\n",
    "from keras.preprocessing.sequence import pad_sequences\n",
    "from keras.utils.np_utils import to_categorical\n",
    "from keras.layers import Embedding\n",
    "from keras.layers import Dense, Input\n",
    "from keras.layers import Conv1D, GlobalMaxPooling1D, Embedding, Merge, Dropout, LSTM, GRU, Bidirectional\n",
    "from keras.models import Sequential, Model\n",
    "from keras.models import model_from_json"
   ]
  },
  {
   "cell_type": "code",
   "execution_count": 24,
   "metadata": {
    "collapsed": true
   },
   "outputs": [],
   "source": [
    "def clean_up(string):\n",
    "    \"\"\"\n",
    "    get rid of some useless '\\' and make sure all the text is lower case\n",
    "    \"\"\"\n",
    "    string = re.sub(r\"\\\\\", \"\", string)\n",
    "    string = re.sub(r\"\\'\", \"\", string)\n",
    "    string = re.sub(r\"\\\"\", \"\", string)\n",
    "    return string.strip().lower()\n",
    "def get_word_embedding(DIR):    \n",
    "    d = {}\n",
    "    f = open(DIR)\n",
    "    for line in f:\n",
    "        v = line.split()\n",
    "        word = v[0]\n",
    "        vec = np.asarray(v[1:], dtype='float32')\n",
    "        d[word] = vec\n",
    "    f.close()\n",
    "    return d"
   ]
  },
  {
   "cell_type": "code",
   "execution_count": 27,
   "metadata": {
    "collapsed": true
   },
   "outputs": [],
   "source": [
    "#### changable parameters\n",
    "MAX_LENGTH = 1000\n",
    "MAX_NB_WORDS = 20000\n",
    "EMBEDDING_DIM = 100\n",
    "VALIDATION_SPLIT = 0.2\n",
    "DATA_DIR = '/Volumes/Dragon/Sentiment_Analysis/labeledTrainData.tsv'\n",
    "training_data = pd.read_csv(DATA_DIR, sep='\\t')\n",
    "GLOVE_DIR = \"/Volumes/Dragon/Sentiment_Analysis/Glove/glove.6B/glove.6B.100d.txt\"\n"
   ]
  },
  {
   "cell_type": "code",
   "execution_count": 28,
   "metadata": {
    "scrolled": true
   },
   "outputs": [
    {
     "name": "stdout",
     "output_type": "stream",
     "text": [
      "25000 25000\n"
     ]
    }
   ],
   "source": [
    "#### clean up the string\n",
    "texts = []\n",
    "labels = []\n",
    "for i in range(training_data.review.shape[0]):\n",
    "    text = BeautifulSoup(training_data.review[i], \"lxml\")\n",
    "    texts.append(clean_up(text.get_text()))\n",
    "    labels.append(training_data.sentiment[i])\n",
    "print(len(texts),len(labels))"
   ]
  },
  {
   "cell_type": "code",
   "execution_count": 29,
   "metadata": {},
   "outputs": [
    {
     "name": "stdout",
     "output_type": "stream",
     "text": [
      "Shape of data tensor: 25000\n",
      "Shape of label tensor: 25000\n",
      "Total 400000 word vectors.\n"
     ]
    }
   ],
   "source": [
    "#### word representation   \n",
    "word_embeddings = get_word_embedding(GLOVE_DIR)\n",
    "labels = to_categorical(np.asarray(labels))\n",
    "print('Shape of data tensor:', len(texts))\n",
    "print('Shape of label tensor:', len(labels))\n",
    "print('Total %s word vectors.' % len(word_embeddings))"
   ]
  },
  {
   "cell_type": "code",
   "execution_count": 30,
   "metadata": {
    "collapsed": true
   },
   "outputs": [],
   "source": [
    "#### transfer to sequence\n",
    "tokenizer = Tokenizer(num_words=MAX_NB_WORDS)\n",
    "tokenizer.fit_on_texts(texts)\n",
    "sequences = tokenizer.texts_to_sequences(texts)\n",
    "word_index = tokenizer.word_index\n",
    "data = pad_sequences(sequences, maxlen=MAX_LENGTH)\n",
    "indices = np.arange(data.shape[0])\n",
    "np.random.shuffle(indices)\n",
    "data = data[indices]\n",
    "labels = labels[indices]"
   ]
  },
  {
   "cell_type": "code",
   "execution_count": 31,
   "metadata": {},
   "outputs": [
    {
     "data": {
      "text/plain": [
       "81501"
      ]
     },
     "execution_count": 31,
     "metadata": {},
     "output_type": "execute_result"
    }
   ],
   "source": [
    "len(word_index)"
   ]
  },
  {
   "cell_type": "code",
   "execution_count": 32,
   "metadata": {
    "collapsed": true
   },
   "outputs": [],
   "source": [
    "# split the dataset\n",
    "nb_validation_samples = int(VALIDATION_SPLIT * data.shape[0])\n",
    "x_train = data[:-nb_validation_samples]\n",
    "y_train = labels[:-nb_validation_samples]\n",
    "x_val = data[-nb_validation_samples:]\n",
    "y_val = labels[-nb_validation_samples:]"
   ]
  },
  {
   "cell_type": "code",
   "execution_count": 33,
   "metadata": {},
   "outputs": [
    {
     "name": "stdout",
     "output_type": "stream",
     "text": [
      "Length of embedding_matrix: 81502\n",
      "Traing and validation set number of positive and negative reviews\n",
      "[  9989.  10011.]\n",
      "[ 2511.  2489.]\n"
     ]
    }
   ],
   "source": [
    "embedding_matrix = np.random.random((len(word_index) + 1, EMBEDDING_DIM))\n",
    "for word, i in word_index.items():\n",
    "    embedding_vector = word_embeddings.get(word)\n",
    "    if embedding_vector is not None:\n",
    "        # words not found in embedding index will be all-zeros.\n",
    "        embedding_matrix[i] = embedding_vector\n",
    "print ('Length of embedding_matrix:', embedding_matrix.shape[0])\n",
    "embedding_layer = Embedding(len(word_index) + 1,\n",
    "                            EMBEDDING_DIM,\n",
    "                            weights=[embedding_matrix],\n",
    "                            mask_zero=False,\n",
    "                            input_length=MAX_LENGTH,\n",
    "                            trainable=False)\n",
    "\n",
    "print('Traing and validation set number of positive and negative reviews')\n",
    "print(y_train.sum(axis=0))\n",
    "print(y_val.sum(axis=0))"
   ]
  },
  {
   "cell_type": "code",
   "execution_count": 34,
   "metadata": {
    "collapsed": true
   },
   "outputs": [],
   "source": [
    "#### computation graph\n",
    "sequence_input = Input(shape=(MAX_LENGTH,), dtype='int32')\n",
    "embedded_sequences = embedding_layer(sequence_input)\n",
    "dense_1 = Dense(100,activation='tanh')(embedded_sequences)\n",
    "max_pooling = GlobalMaxPooling1D()(dense_1)\n",
    "dense_2 = Dense(2, activation='softmax')(max_pooling)\n"
   ]
  },
  {
   "cell_type": "code",
   "execution_count": 35,
   "metadata": {
    "collapsed": true
   },
   "outputs": [],
   "source": [
    "model = Model(sequence_input, dense_2)\n",
    "\n",
    "model.compile(loss='categorical_crossentropy',\n",
    "              optimizer='rmsprop',\n",
    "              metrics=['acc'])"
   ]
  },
  {
   "cell_type": "code",
   "execution_count": 36,
   "metadata": {},
   "outputs": [
    {
     "name": "stdout",
     "output_type": "stream",
     "text": [
      "_________________________________________________________________\n",
      "Layer (type)                 Output Shape              Param #   \n",
      "=================================================================\n",
      "input_2 (InputLayer)         (None, 1000)              0         \n",
      "_________________________________________________________________\n",
      "embedding_2 (Embedding)      (None, 1000, 100)         8150200   \n",
      "_________________________________________________________________\n",
      "dense_3 (Dense)              (None, 1000, 100)         10100     \n",
      "_________________________________________________________________\n",
      "global_max_pooling1d_2 (Glob (None, 100)               0         \n",
      "_________________________________________________________________\n",
      "dense_4 (Dense)              (None, 2)                 202       \n",
      "=================================================================\n",
      "Total params: 8,160,502\n",
      "Trainable params: 10,302\n",
      "Non-trainable params: 8,150,200\n",
      "_________________________________________________________________\n"
     ]
    }
   ],
   "source": [
    "model.summary()"
   ]
  },
  {
   "cell_type": "code",
   "execution_count": 37,
   "metadata": {},
   "outputs": [
    {
     "name": "stdout",
     "output_type": "stream",
     "text": [
      "Train on 20000 samples, validate on 5000 samples\n",
      "Epoch 1/10\n",
      "20000/20000 [==============================] - 201s 10ms/step - loss: 0.5607 - acc: 0.7211 - val_loss: 0.4500 - val_acc: 0.8146\n",
      "Epoch 2/10\n",
      "20000/20000 [==============================] - 197s 10ms/step - loss: 0.4090 - acc: 0.8269 - val_loss: 0.3930 - val_acc: 0.8346\n",
      "Epoch 3/10\n",
      "20000/20000 [==============================] - 195s 10ms/step - loss: 0.3549 - acc: 0.8515 - val_loss: 0.3630 - val_acc: 0.8478\n",
      "Epoch 4/10\n",
      "20000/20000 [==============================] - 194s 10ms/step - loss: 0.3232 - acc: 0.8690 - val_loss: 0.3479 - val_acc: 0.8558\n",
      "Epoch 5/10\n",
      "20000/20000 [==============================] - 195s 10ms/step - loss: 0.3000 - acc: 0.8785 - val_loss: 0.3514 - val_acc: 0.8592\n",
      "Epoch 6/10\n",
      "20000/20000 [==============================] - 194s 10ms/step - loss: 0.2797 - acc: 0.8889 - val_loss: 0.3378 - val_acc: 0.8632\n",
      "Epoch 7/10\n",
      "20000/20000 [==============================] - 196s 10ms/step - loss: 0.2612 - acc: 0.8987 - val_loss: 0.3356 - val_acc: 0.8608\n",
      "Epoch 8/10\n",
      "20000/20000 [==============================] - 195s 10ms/step - loss: 0.2473 - acc: 0.9038 - val_loss: 0.3424 - val_acc: 0.8524\n",
      "Epoch 9/10\n",
      "20000/20000 [==============================] - 195s 10ms/step - loss: 0.2336 - acc: 0.9105 - val_loss: 0.3507 - val_acc: 0.8612\n",
      "Epoch 10/10\n",
      "20000/20000 [==============================] - 208s 10ms/step - loss: 0.2200 - acc: 0.9167 - val_loss: 0.3559 - val_acc: 0.8532\n"
     ]
    }
   ],
   "source": [
    "history = model.fit(x_train, y_train, validation_data=(x_val, y_val),\n",
    "          epochs=10, batch_size=50)"
   ]
  },
  {
   "cell_type": "code",
   "execution_count": 53,
   "metadata": {},
   "outputs": [
    {
     "name": "stdout",
     "output_type": "stream",
     "text": [
      "dict_keys(['val_loss', 'val_acc', 'loss', 'acc'])\n"
     ]
    },
    {
     "data": {
      "image/png": "[encoded data removed]",
      "text/plain": [
       "<matplotlib.figure.Figure at 0x1288114e0>"
      ]
     },
     "metadata": {},
     "output_type": "display_data"
    },
    {
     "data": {
      "image/png": "[encoded data removed]",
      "text/plain": [
       "<matplotlib.figure.Figure at 0x125994518>"
      ]
     },
     "metadata": {},
     "output_type": "display_data"
    }
   ],
   "source": [
    "# reference: https://machinelearningmastery.com/display-deep-learning-model-training-history-in-keras/\n",
    "import matplotlib.pyplot as plt\n",
    "print(history.history.keys())\n",
    "# summarize history for accuracy\n",
    "plt.plot(history.history['acc'])\n",
    "plt.plot(history.history['val_acc'])\n",
    "plt.title('mlp model accuracy')\n",
    "plt.ylabel('accuracy')\n",
    "plt.xlabel('epoch')\n",
    "plt.legend(['train', 'test'], loc='upper left')\n",
    "plt.savefig('MLP_accuracy.jpg')\n",
    "plt.show()\n",
    "# summarize history for loss\n",
    "plt.plot(history.history['loss'])\n",
    "plt.plot(history.history['val_loss'])\n",
    "plt.title('mlp model loss')\n",
    "plt.ylabel('loss')\n",
    "plt.xlabel('epoch')\n",
    "plt.legend(['train', 'test'], loc='upper left')\n",
    "plt.savefig('MLP_loss.jpg')\n",
    "plt.show()"
   ]
  },
  {
   "cell_type": "code",
   "execution_count": 45,
   "metadata": {},
   "outputs": [
    {
     "name": "stdout",
     "output_type": "stream",
     "text": [
      "_________________________________________________________________\n",
      "Layer (type)                 Output Shape              Param #   \n",
      "=================================================================\n",
      "input_2 (InputLayer)         (None, 1000)              0         \n",
      "_________________________________________________________________\n",
      "embedding_2 (Embedding)      (None, 1000, 100)         8150200   \n",
      "_________________________________________________________________\n",
      "bidirectional_1 (Bidirection (None, 200)               160800    \n",
      "_________________________________________________________________\n",
      "dense_5 (Dense)              (None, 100)               20100     \n",
      "_________________________________________________________________\n",
      "dense_6 (Dense)              (None, 2)                 202       \n",
      "=================================================================\n",
      "Total params: 8,331,302\n",
      "Trainable params: 181,102\n",
      "Non-trainable params: 8,150,200\n",
      "_________________________________________________________________\n"
     ]
    }
   ],
   "source": [
    "embedded_sequences = embedding_layer(sequence_input)  \n",
    "l_gru = Bidirectional(LSTM(100, return_sequences=False))(embedded_sequences)  \n",
    "dense_1 = Dense(100,activation='tanh')(l_gru)  \n",
    "dense_2 = Dense(2, activation='softmax')(dense_1)  \n",
    "  \n",
    "model = Model(sequence_input, dense_2)  \n",
    "  \n",
    "model.compile(loss='categorical_crossentropy',  \n",
    "              optimizer='rmsprop',  \n",
    "              metrics=['acc'])  \n",
    "  \n",
    "model.summary()  \n"
   ]
  },
  {
   "cell_type": "code",
   "execution_count": 46,
   "metadata": {},
   "outputs": [
    {
     "name": "stderr",
     "output_type": "stream",
     "text": [
      "/Users/changlongjiang/anaconda3/lib/python3.6/site-packages/ipykernel_launcher.py:2: UserWarning: The `nb_epoch` argument in `fit` has been renamed `epochs`.\n",
      "  \n"
     ]
    },
    {
     "name": "stdout",
     "output_type": "stream",
     "text": [
      "Train on 20000 samples, validate on 5000 samples\n",
      "Epoch 1/10\n",
      "20000/20000 [==============================] - 1155s 58ms/step - loss: 0.5743 - acc: 0.6964 - val_loss: 0.4224 - val_acc: 0.8118\n",
      "Epoch 2/10\n",
      "20000/20000 [==============================] - 1137s 57ms/step - loss: 0.4184 - acc: 0.8118 - val_loss: 0.3699 - val_acc: 0.8396\n",
      "Epoch 3/10\n",
      "20000/20000 [==============================] - 1148s 57ms/step - loss: 0.3535 - acc: 0.8471 - val_loss: 0.3556 - val_acc: 0.8466\n",
      "Epoch 4/10\n",
      "20000/20000 [==============================] - 1146s 57ms/step - loss: 0.3139 - acc: 0.8669 - val_loss: 0.3075 - val_acc: 0.8692\n",
      "Epoch 5/10\n",
      "20000/20000 [==============================] - 1118s 56ms/step - loss: 0.2818 - acc: 0.8825 - val_loss: 0.3217 - val_acc: 0.8654\n",
      "Epoch 6/10\n",
      "20000/20000 [==============================] - 1117s 56ms/step - loss: 0.2578 - acc: 0.8933 - val_loss: 0.3061 - val_acc: 0.8860\n",
      "Epoch 7/10\n",
      "20000/20000 [==============================] - 1117s 56ms/step - loss: 0.2321 - acc: 0.9054 - val_loss: 0.3211 - val_acc: 0.8852\n",
      "Epoch 8/10\n",
      "20000/20000 [==============================] - 1101s 55ms/step - loss: 0.2067 - acc: 0.9191 - val_loss: 0.2961 - val_acc: 0.8856\n",
      "Epoch 9/10\n",
      "20000/20000 [==============================] - 1103s 55ms/step - loss: 0.1816 - acc: 0.9288 - val_loss: 0.3002 - val_acc: 0.8800\n",
      "Epoch 10/10\n",
      "20000/20000 [==============================] - 1106s 55ms/step - loss: 0.1575 - acc: 0.9377 - val_loss: 0.3352 - val_acc: 0.8768\n"
     ]
    }
   ],
   "source": [
    "B_LSTM = model.fit(x_train, y_train, validation_data=(x_val, y_val),  \n",
    "          epochs=10, batch_size=50)"
   ]
  },
  {
   "cell_type": "code",
   "execution_count": 49,
   "metadata": {},
   "outputs": [
    {
     "name": "stdout",
     "output_type": "stream",
     "text": [
      "dict_keys(['val_loss', 'val_acc', 'loss', 'acc'])\n"
     ]
    },
    {
     "data": {
      "image/png": "[encoded data removed]",
      "text/plain": [
       "<matplotlib.figure.Figure at 0x12875be48>"
      ]
     },
     "metadata": {},
     "output_type": "display_data"
    },
    {
     "data": {
      "image/png": "[encoded data removed]",
      "text/plain": [
       "<matplotlib.figure.Figure at 0x1152636d8>"
      ]
     },
     "metadata": {},
     "output_type": "display_data"
    }
   ],
   "source": [
    "import matplotlib.pyplot as plt\n",
    "print(B_LSTM.history.keys())\n",
    "# summarize history for accuracy\n",
    "plt.plot(B_LSTM.history['acc'])\n",
    "plt.plot(B_LSTM.history['val_acc'])\n",
    "plt.title('model accuracy')\n",
    "plt.ylabel('accuracy')\n",
    "plt.xlabel('epoch')\n",
    "plt.legend(['train', 'test'], loc='upper left')\n",
    "plt.savefig('B_LSTM_accuracy.jpg')\n",
    "plt.show()\n",
    "# summarize history for loss\n",
    "plt.plot(B_LSTM.history['loss'])\n",
    "plt.plot(B_LSTM.history['val_loss'])\n",
    "plt.title('model loss')\n",
    "plt.ylabel('loss')\n",
    "plt.xlabel('epoch')\n",
    "plt.legend(['train', 'test'], loc='upper left')\n",
    "plt.savefig('B_LSTM_loss.jpg')\n",
    "plt.show()"
   ]
  },
  {
   "cell_type": "markdown",
   "metadata": {
    "collapsed": true
   },
   "source": [
    "$$X^{<1>}$$"
   ]
  },
  {
   "cell_type": "code",
   "execution_count": null,
   "metadata": {
    "collapsed": true
   },
   "outputs": [],
   "source": []
  }
 ],
 "metadata": {
  "kernelspec": {
   "display_name": "Python 3",
   "language": "python",
   "name": "python3"
  },
  "language_info": {
   "codemirror_mode": {
    "name": "ipython",
    "version": 3
   },
   "file_extension": ".py",
   "mimetype": "text/x-python",
   "name": "python",
   "nbconvert_exporter": "python",
   "pygments_lexer": "ipython3",
   "version": "3.6.3"
  }
 },
 "nbformat": 4,
 "nbformat_minor": 2
}
