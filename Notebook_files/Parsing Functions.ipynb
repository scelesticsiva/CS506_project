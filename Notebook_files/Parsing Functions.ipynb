{
 "cells": [
  {
   "cell_type": "code",
   "execution_count": 22,
   "metadata": {},
   "outputs": [],
   "source": [
    "def clean_review(topic, review, n=4):\n",
    "    phrases_list = []\n",
    "    size = len(review)\n",
    "    for index, word in enumerate(review):\n",
    "        if word == topic:        \n",
    "            if index - n >= 0:\n",
    "                before_portion = review[index-n:index]\n",
    "            else:\n",
    "                before_portion = review[0:index]\n",
    "            if index + n + 1 < size:\n",
    "                after_portion = review[index:index + n +1]\n",
    "            else:\n",
    "                after_portion = review[index:size]\n",
    "            phrases_list.append(before_portion + after_portion)\n",
    "    return phrases_list"
   ]
  },
  {
   "cell_type": "code",
   "execution_count": 30,
   "metadata": {},
   "outputs": [],
   "source": [
    "from nltk.corpus import stopwords\n",
    "stops = set(stopwords.words(\"english\"))\n",
    "\n",
    "def remove_stop_words(review, stop_words = stops):\n",
    "    return [word for word in review if word not in stops]\n",
    "    "
   ]
  },
  {
   "cell_type": "code",
   "execution_count": 35,
   "metadata": {},
   "outputs": [],
   "source": [
    "import string\n",
    "\n",
    "translator =  str.maketrans('', '', string.punctuation)\n",
    "\n",
    "def clean_all_data(topic, reviews, n=2):\n",
    "    return [clean_review(topic, remove_stop_words(review.translate(translator).split()), n) for review in reviews]"
   ]
  },
  {
   "cell_type": "code",
   "execution_count": 36,
   "metadata": {},
   "outputs": [],
   "source": [
    "# import nltk\n",
    "# nltk.download('stopwords')"
   ]
  },
  {
   "cell_type": "code",
   "execution_count": 53,
   "metadata": {},
   "outputs": [
    {
     "name": "stdout",
     "output_type": "stream",
     "text": [
      "enchiladas : [['ordered', 'Enchiladas', 'Reynas', 'chicken', 'enchiladas', 'lime', 'cilantro', 'sour', 'cream'], ['tasted', 'great', 'Overall', 'plate', 'enchiladas', 'could', 'expect', 'see', 'top']]\n",
      "reputation : [['For', 'restaurant', 'past', 'amazing', 'reputation', 'genuine', 'traditional', 'Mexican', 'cuisine'], ['rely', 'Casa', 'Reynas', 'previous', 'reputation', 'whatever', 'reason', 'things', 'dramatically']]\n",
      "two : [['server', 'approach', 'waited', 'There', 'two', 'servers', 'slowly', 'clearing', 'resetting'], ['Air', 'dryer', 'bathroom', 'turn', 'two', 'door', 'knobs', 'get', 'restroom']]\n",
      "mole : [['kwahhhhtro', 'MOWlays', 'Chicken', 'cocoa', 'mole', 'sauce', 'pork', 'tomatilla', 'toemaTEAyah'], ['sauce', 'pork', 'tomatilla', 'toemaTEAyah', 'mole', 'beef', 'kind', 'barbecue', 'mole'], ['mole', 'beef', 'kind', 'barbecue', 'mole', 'chicken', 'type', 'ancho', 'mole'], ['mole', 'chicken', 'type', 'ancho', 'mole', 'Served', 'side', 'spanish', 'rice'], ['moist', 'flavorful', 'chicken', 'cocoa', 'mole', 'coming', 'neck', 'neck', 'beef'], ['I', 'could', 'eat', 'pork', 'mole', 'entree', 'alone', 'bed', 'lightly'], ['without', 'eating', 'dry', 'chicken', 'mole', 'I', 'QUITE', 'full', 'satisfied']]\n",
      "mexican : []\n",
      "food : [['I', 'love', 'Mexican', 'food', 'I', 'eaten', 'many', 'establishments'], ['assumed', 'ice', 'cream', 'typical', 'food', 'service', 'delivery', 'five', 'gallon'], ['prompt', 'friendly', 'enough', 'Our', 'food', 'came', 'quickly', 'checked', 'back'], ['go', 'If', 'like', 'Mexican', 'food', 'tried', 'many', 'places', 'I']]\n",
      "head : [['guacamole', 'good', 'plate', 'much', 'head', 'One', 'waiters', 'clearing', 'table'], ['recorded', 'video', 'dish', 'falling', 'head', 'Im', 'sure', 'would', 'hilarious'], ['never', 'dropped', 'food', 'anyones', 'head', 'I', 'dropped', 'tray', 'full']]\n",
      "shrimp : [['2', 'salsas', 'queso', 'fundito', 'shrimp', 'ceviche', 'share', 'After', 'traveling'], ['traveling', '3', 'tables', 'first', 'shrimp', 'ketchup', 'errr', 'shrimp', 'ceviche'], ['first', 'shrimp', 'ketchup', 'errr', 'shrimp', 'ceviche', 'arrived', 'Tiny', 'boiled'], ['ceviche', 'arrived', 'Tiny', 'boiled', 'shrimp', 'tomatoes', 'onions', 'cilantro', 'stirred']]\n",
      "queso : [['wait', 'get', 'hands', 'amazing', 'queso', 'I', 'disappointed', 'queso', 'came'], ['amazing', 'queso', 'I', 'disappointed', 'queso', 'came', 'equivalent', 'bowl', 'shredded'], ['absolutely', 'impossible', 'dip', 'chip', 'queso', 'solid', 'blob', 'cheese', 'I']]\n",
      "good : [['First', 'good', 'really', 'excellent', 'location', 'It'], ['I', 'hopeful', 'Reynas', 'really', 'good', 'taco', 'cart', 'beginnings', 'would'], ['ever', 'Her', 'tacos', 'quite', 'good', 'though', 'liked', 'Oakland', 'taco'], ['thats', 'favorite', 'Two', 'others', 'good', 'great', 'best', 'green', 'pork'], ['enjoyable', 'though', 'meat', 'tender', 'good', 'Not', 'bit', 'cilantro', 'lime']]\n",
      "traditional : [['mole', 'one', 'A', 'good', 'traditional', 'mole', 'sauce', 'ingredients', 'attention'], ['Reyna', 'saw', 'menu', 'includes', 'traditional', 'chicken', 'mole', 'total', 'FOUR']]\n",
      "finally : [['tiny', 'basket', 'chips', 'brought', 'finally', 'able', 'get', 'ahold', 'waitress'], ['Sunday', 'afternoon', 'When', 'food', 'finally', 'come', '3', '5', 'orders']]\n",
      "fancy : [['Folks', 'please', 'dont', 'look', 'fancy', 'hi', 'end', 'rooms', 'allpeople'], ['end', 'rooms', 'allpeople', 'wanting', 'fancy', 'hotel', 'stuff', 'thats', 'many']]\n",
      "definitely : [['sleep', 'clean', 'I', 'would', 'definitely', 'recommend', 'families', 'younger', 'kids'], ['lines', 'resorts', 'strip', 'except', 'definitely', 'dont', 'get', 'extravagance', 'amenities']]\n",
      "dates : [['proper', 'screen', 'I', 'put', 'dates', 'March', '2426', 'credit', 'card'], ['Pay', 'website', 'bugged', 'changed', 'dates', 'current', 'date', 'processed', 'payment'], ['called', 'rebook', 'room', 'proper', 'dates', 'hopefully', 'get', '38', 'charge'], ['phone', 'He', 'gave', 'rates', 'dates', 'I', 'wanted', 'I', 'told']]\n",
      "street : [['park', 'parking', 'lot', 'across', 'street', 'cool', 'Who', 'wants', 'pay'], ['Its', 'cool', 'hit', 'Fremont', 'street', 'since', 'block', 'away', 'youre'], ['7', 'Eleven', 'right', 'across', 'street', 'What', 'I', 'really', 'loved']]\n",
      "3 : [['warned', 'would', 'play', 'till', '3', '330', 'Ear', 'plugs', 'cheaply'], ['said', 'music', 'would', 'play', '3', '330', 'The', 'music', 'played']]\n",
      "either : [['ICE', 'MACHINES', 'floor', 'You', 'either', 'go', 'bar', 'cafe', 'downstairs'], ['etc', 'No', 'safes', 'room', 'either', 'concerned', 'us', 'door', 'hangers'], ['considered', 'resort', 'Had', 'disclosed', 'either', 'site', 'I', 'would', 'happily']]\n",
      "get : [['add', 'yard', 'games', 'wanted', 'get', 'something', 'eat', 'drink', 'could'], ['could', 'go', 'Goldspike', 'backyard', 'get', 'I', 'really', 'liked', 'wasnt'], ['bag', 'holder', 'fill', 'coffee', 'get', 'suppose', 'get', 'coffee', 'card'], ['fill', 'coffee', 'get', 'suppose', 'get', 'coffee', 'card', 'good', '1'], ['I', 'went', 'Goldspike', 'morning', 'get', 'cuppa', 'coffee', 'female', 'rudely'], ['reception', 'saying', 'I', 'needed', 'get', 'blue', 'card', 'I', 'went'], ['I', 'told', 'I', 'came', 'get', 'coffee', 'card', 'said', 'oh'], ['conversation', 'I', 'asked', 'well', 'get', 'cup', 'coffee', 'said', 'pay'], ['I', 'said', 'cant', 'call', 'get', 'cleared', 'replied', 'didnt', 'authority']]\n",
      "first : [['headed', 'right', 'way', 'room', 'first', 'time', 'We', 'passed', 'front']]\n",
      "back : [['Spike', 'parking', 'lot', 'elevator', 'back', 'There', '3', 'floors', 'elevator'], ['degree', 'heat', 'half', 'way', 'back', 'strip', 'I', 'realized', 'missing'], ['thought', 'would', 'really', 'mad', 'back', 'asking', 'get', 'room', 'nice']]\n",
      "front : [['work', 'I', 'let', 'woman', 'front', 'desk', 'know', 'immediately', 'barked'], ['night', 'amenities', 'fee', 'The', 'front', 'desk', 'person', 'said', 'since'], ['I', 'would', 'love', 'call', 'front', 'desk', 'phones', 'room', 'alarm'], ['clocks', 'Regards', 'free', 'WiFi', 'front', 'desk', 'woman', 'apologized', 'said']]\n",
      "find : [['go', 'get', 'ice', 'couldnt', 'find', 'machine', '6th', 'floor', 'Not'], ['floors', 'aimlessly', 'I', 'tried', 'find', 'directory', 'show', 'I', 'could'], ['directory', 'show', 'I', 'could', 'find', 'There', 'wasnt', 'one', 'stupid']]\n",
      "go : [['parking', 'lot', 'parked', '711', 'go', 'check', 'We', 'also', 'hard'], ['club', 'entrance', 'told', 'us', 'go', 'security', 'guard', 'let', 'us'], ['rules', 'But', 'cousin', 'wanted', 'go', 'move', 'car', '711', 'parking'], ['cousin', 'left', 'took', 'ID', 'go', 'move', 'car', 'I', 'finished']]\n",
      "rude : [['called', 'day', '3pm', 'girl', 'rude', 'hung', '3', 'times', 'rushed'], ['hold', '20', 'mins', 'fucking', 'rude', 'hell', 'said', '3pm', 'everyones'], ['didnt', 'need', 'yell', 'fucking', 'rude', 'Then', 'I', 'check', 'guy'], ['pissed', 'call', 'earlier', 'I', 'rude', 'fault', 'I', 'later', 'apologized'], ['complaint', 'management', 'behavior', 'fucking', 'rude', 'snapped', 'talked', 'condescending', 'treated'], ['acted', 'like', 'one', 'arrogant', 'rude', 'paying', 'customers', 'Please', 'fire']]\n",
      "expedia : []\n",
      "really : [['2', 'Front', 'desk', 'girl', 'really', 'nice', 'spoke', 'phone', 'checking'], ['Bathroom', 'standard', 'hotel', 'bathroom', 'really', 'cute', 'llama', 'toiletries', 'swooped'], ['I', 'LOVE', 'vibe', 'everyone', 'really', 'awesome', 'youre', 'oldie', 'like']]\n",
      "hotel : [['I', 'late', 'flight', 'arrived', 'hotel', 'received', 'ton', 'kids', 'seemed'], ['festivities', 'people', 'appreciate', 'true', 'hotel', 'nightclub', 'labeled', 'hotel'], ['true', 'hotel', 'nightclub', 'labeled', 'hotel']]\n",
      "us : [['desk', 'super', 'rude', 'told', 'us', 'doubt', 'room', 'would', 'even'], ['time', 'different', 'girl', 'helped', 'us', 'told', 'us', 'room', 'wasnt'], ['girl', 'helped', 'us', 'told', 'us', 'room', 'wasnt', 'ready', 'yet'], ['upset', 'got', 'upset', 'back', 'us', 'supposedly', 'one', 'working', 'blah'], ['hotel', 'would', 'definitely', 'charge', 'us', 'run', 'late', 'dont', 'get'], ['Sunday', 'theres', 'really', 'reason', 'us', 'come', 'back', 'anymore', 'Cant']]\n",
      "rooms : [['canopys', 'reflect', 'noise', 'transfers', 'rooms', 'though', 'conversation', 'This', 'morning'], ['Management', 'needs', 'put', 'staff', 'rooms', 'listen', 'decibel', 'level', 'might'], ['quiet', 'While', 'wood', 'floors', 'rooms', 'great', 'design', 'element', 'adding']]\n",
      "boyfriend : [['I', 'extremely', 'excited', 'stay', 'boyfriend', 'It', 'perfect', 'opportunity', 'Middle'], ['extremely', 'rude', 'made', 'feel', 'boyfriend', 'I', 'done', 'something', 'wrong'], ['us', 'parking', 'hanger', 'cars', 'boyfriend', 'I', 'got', 'left', 'rooms']]\n",
      "ice : [['showers', 'I', 'try', 'grab', 'ice', 'apparently', 'arent', 'ice', 'machines'], ['grab', 'ice', 'apparently', 'arent', 'ice', 'machines', 'hotel', 'room', 'floors'], ['either', 'go', 'pool', 'bar', 'ice', 'Not', 'big', 'deal', 'sees'], ['hotel', 'So', 'weve', 'got', 'ice', 'hes', 'showered', 'attempting', 'get']]\n",
      "could : [['clean', 'felt', 'clean', 'traveler', 'could', 'hope', 'hotel', 'room', 'The'], ['The', 'staff', 'helpful', 'friendly', 'could', 'tell', 'knew', 'Las', 'Vegas'], ['bed', 'pillows', 'I', 'felt', 'could', 'much', 'comfortablesoft', 'although', 'I']]\n",
      "room : [['took', 'hour', 'half', 'check', 'room', 'ready', 'went', 'go', 'put'], ['went', 'go', 'put', 'stuff', 'room', 'found', 'two', 'maids', 'starting'], ['saw', 'us', 'trying', 'get', 'room', 'left', 'room', 'mess', 'started'], ['trying', 'get', 'room', 'left', 'room', 'mess', 'started', 'arguing', 'The'], ['stop', 'arguing', 'finish', 'cleaning', 'room', 'They', 'never', 'returned', 'whole'], ['returned', 'whole', 'time', 'clean', 'room', 'clean', 'towels', 'fresh', 'sheets'], ['security', 'staying', 'needed', 'get', 'room', 'You', 'shouldnt', 'wait', 'line'], ['line', 'night', 'club', 'get', 'room', 'The', 'resort', 'fees', 'high'], ['heated', 'Ice', 'machine', 'phone', 'room', 'call', 'front', 'desk', 'wifi']]\n"
     ]
    }
   ],
   "source": [
    "import numpy as np\n",
    "\n",
    "restaurants = np.load('../src/results.npy').item()\n",
    "\n",
    "for key in restaurants.keys():\n",
    "    topics = restaurants[key]\n",
    "    \n",
    "    for topic in topics.keys():\n",
    "        reviews = clean_all_data(topic, topics[topic], 4)"
   ]
  },
  {
   "cell_type": "code",
   "execution_count": null,
   "metadata": {},
   "outputs": [],
   "source": []
  },
  {
   "cell_type": "code",
   "execution_count": null,
   "metadata": {},
   "outputs": [],
   "source": []
  }
 ],
 "metadata": {
  "kernelspec": {
   "display_name": "Python 3",
   "language": "python",
   "name": "python3"
  },
  "language_info": {
   "codemirror_mode": {
    "name": "ipython",
    "version": 3
   },
   "file_extension": ".py",
   "mimetype": "text/x-python",
   "name": "python",
   "nbconvert_exporter": "python",
   "pygments_lexer": "ipython3",
   "version": "3.6.4"
  }
 },
 "nbformat": 4,
 "nbformat_minor": 2
}
