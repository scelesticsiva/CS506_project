{
 "cells": [
  {
   "cell_type": "code",
   "execution_count": 22,
   "metadata": {},
   "outputs": [],
   "source": [
    "def clean_review(topic, review, n=5):\n",
    "    phrases_list = []\n",
    "    size = len(review)\n",
    "    for index, word in enumerate(review):\n",
    "        if word == topic:        \n",
    "            if index - n >= 0:\n",
    "                before_portion = review[index-n:index]\n",
    "            else:\n",
    "                before_portion = review[0:index]\n",
    "            if index + n + 1 < size:\n",
    "                after_portion = review[index:index + n +1]\n",
    "            else:\n",
    "                after_portion = review[index:size]\n",
    "            phrases_list.append(before_portion + after_portion)\n",
    "    return phrases_list"
   ]
  },
  {
   "cell_type": "code",
   "execution_count": 24,
   "metadata": {},
   "outputs": [],
   "source": [
    "def clean_all_data(topic, reviews, n=2):\n",
    "    return [clean_review(topic, review.split(), n) for review in reviews]"
   ]
  },
  {
   "cell_type": "code",
   "execution_count": null,
   "metadata": {},
   "outputs": [],
   "source": []
  }
 ],
 "metadata": {
  "kernelspec": {
   "display_name": "Python 3",
   "language": "python",
   "name": "python3"
  },
  "language_info": {
   "codemirror_mode": {
    "name": "ipython",
    "version": 3
   },
   "file_extension": ".py",
   "mimetype": "text/x-python",
   "name": "python",
   "nbconvert_exporter": "python",
   "pygments_lexer": "ipython3",
   "version": "3.6.4"
  }
 },
 "nbformat": 4,
 "nbformat_minor": 2
}
