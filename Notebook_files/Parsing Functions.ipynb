{
 "cells": [
  {
   "cell_type": "code",
   "execution_count": 69,
   "metadata": {},
   "outputs": [],
   "source": [
    "def clean_review(topic, review, n=4):\n",
    "    phrases_list = []\n",
    "    size = len(review)\n",
    "    for index, word in enumerate(review):\n",
    "        if word == topic:        \n",
    "            if index - n >= 0:\n",
    "                before_portion = review[index-n:index]\n",
    "            else:\n",
    "                before_portion = review[0:index]\n",
    "            if index + n + 1 < size:\n",
    "                after_portion = review[index:index + n +1]\n",
    "            else:\n",
    "                after_portion = review[index:size]\n",
    "            phrases_list.append(\" \".join(before_portion + after_portion).lower())\n",
    "    return(phrases_list)"
   ]
  },
  {
   "cell_type": "code",
   "execution_count": 70,
   "metadata": {},
   "outputs": [],
   "source": [
    "from nltk.corpus import stopwords\n",
    "stops = set(stopwords.words(\"english\"))\n",
    "\n",
    "def remove_stop_words(review, stop_words = stops):\n",
    "    return [word for word in review if word not in stops]\n",
    "    "
   ]
  },
  {
   "cell_type": "code",
   "execution_count": 71,
   "metadata": {},
   "outputs": [],
   "source": [
    "import string\n",
    "\n",
    "translator =  str.maketrans('', '', string.punctuation)\n",
    "\n",
    "def clean_all_data(topic, reviews, n=2):\n",
    "    return [clean_review(topic, remove_stop_words(review.translate(translator).split()), n) for review in reviews]"
   ]
  },
  {
   "cell_type": "code",
   "execution_count": 72,
   "metadata": {},
   "outputs": [],
   "source": [
    "# import nltk\n",
    "# nltk.download('stopwords')"
   ]
  },
  {
   "cell_type": "code",
   "execution_count": 73,
   "metadata": {},
   "outputs": [
    {
     "name": "stdout",
     "output_type": "stream",
     "text": [
      "enchiladas : [['ordered enchiladas reynas chicken enchiladas lime cilantro sour cream', 'tasted great overall plate enchiladas could expect see top']]\n",
      "reputation : [['for restaurant past amazing reputation genuine traditional mexican cuisine', 'rely casa reynas previous reputation whatever reason things dramatically']]\n",
      "two : [['server approach waited there two servers slowly clearing resetting', 'air dryer bathroom turn two door knobs get restroom']]\n",
      "mole : [['kwahhhhtro mowlays chicken cocoa mole sauce pork tomatilla toemateayah', 'sauce pork tomatilla toemateayah mole beef kind barbecue mole', 'mole beef kind barbecue mole chicken type ancho mole', 'mole chicken type ancho mole served side spanish rice', 'moist flavorful chicken cocoa mole coming neck neck beef', 'i could eat pork mole entree alone bed lightly', 'without eating dry chicken mole i quite full satisfied']]\n",
      "mexican : [[], []]\n",
      "food : [['i love mexican food i eaten many establishments', 'assumed ice cream typical food service delivery five gallon', 'prompt friendly enough our food came quickly checked back', 'go if like mexican food tried many places i']]\n",
      "head : [['guacamole good plate much head one waiters clearing table', 'recorded video dish falling head im sure would hilarious', 'never dropped food anyones head i dropped tray full']]\n",
      "shrimp : [['2 salsas queso fundito shrimp ceviche share after traveling', 'traveling 3 tables first shrimp ketchup errr shrimp ceviche', 'first shrimp ketchup errr shrimp ceviche arrived tiny boiled', 'ceviche arrived tiny boiled shrimp tomatoes onions cilantro stirred']]\n",
      "queso : [['wait get hands amazing queso i disappointed queso came', 'amazing queso i disappointed queso came equivalent bowl shredded', 'absolutely impossible dip chip queso solid blob cheese i']]\n",
      "good : [['first good really excellent location it', 'i hopeful reynas really good taco cart beginnings would', 'ever her tacos quite good though liked oakland taco', 'thats favorite two others good great best green pork', 'enjoyable though meat tender good not bit cilantro lime']]\n",
      "traditional : [['mole one a good traditional mole sauce ingredients attention', 'reyna saw menu includes traditional chicken mole total four']]\n",
      "finally : [['tiny basket chips brought finally able get ahold waitress', 'sunday afternoon when food finally come 3 5 orders']]\n",
      "fancy : [['folks please dont look fancy hi end rooms allpeople', 'end rooms allpeople wanting fancy hotel stuff thats many']]\n",
      "definitely : [['sleep clean i would definitely recommend families younger kids', 'lines resorts strip except definitely dont get extravagance amenities']]\n",
      "dates : [['proper screen i put dates march 2426 credit card', 'pay website bugged changed dates current date processed payment', 'called rebook room proper dates hopefully get 38 charge', 'phone he gave rates dates i wanted i told']]\n",
      "street : [['park parking lot across street cool who wants pay', 'its cool hit fremont street since block away youre', '7 eleven right across street what i really loved']]\n",
      "3 : [['warned would play till 3 330 ear plugs cheaply', 'said music would play 3 330 the music played'], ['warned would play till 3 330 ear plugs cheaply', 'said music would play 3 330 the music played']]\n",
      "either : [['ice machines floor you either go bar cafe downstairs', 'etc no safes room either concerned us door hangers', 'considered resort had disclosed either site i would happily']]\n",
      "get : [['add yard games wanted get something eat drink could', 'could go goldspike backyard get i really liked wasnt', 'bag holder fill coffee get suppose get coffee card', 'fill coffee get suppose get coffee card good 1', 'i went goldspike morning get cuppa coffee female rudely', 'reception saying i needed get blue card i went', 'i told i came get coffee card said oh', 'conversation i asked well get cup coffee said pay', 'i said cant call get cleared replied didnt authority']]\n",
      "first : [['headed right way room first time we passed front']]\n",
      "back : [['spike parking lot elevator back there 3 floors elevator', 'degree heat half way back strip i realized missing', 'thought would really mad back asking get room nice']]\n",
      "front : [['work i let woman front desk know immediately barked', 'night amenities fee the front desk person said since', 'i would love call front desk phones room alarm', 'clocks regards free wifi front desk woman apologized said']]\n",
      "find : [['go get ice couldnt find machine 6th floor not', 'floors aimlessly i tried find directory show i could', 'directory show i could find there wasnt one stupid']]\n",
      "go : [['parking lot parked 711 go check we also hard', 'club entrance told us go security guard let us', 'rules but cousin wanted go move car 711 parking', 'cousin left took id go move car i finished']]\n",
      "rude : [['called day 3pm girl rude hung 3 times rushed', 'hold 20 mins fucking rude hell said 3pm everyones', 'didnt need yell fucking rude then i check guy', 'pissed call earlier i rude fault i later apologized', 'complaint management behavior fucking rude snapped talked condescending treated', 'acted like one arrogant rude paying customers please fire']]\n",
      "expedia : [[]]\n",
      "really : [['2 front desk girl really nice spoke phone checking', 'bathroom standard hotel bathroom really cute llama toiletries swooped', 'i love vibe everyone really awesome youre oldie like']]\n",
      "hotel : [['i late flight arrived hotel received ton kids seemed', 'festivities people appreciate true hotel nightclub labeled hotel', 'true hotel nightclub labeled hotel']]\n",
      "us : [['desk super rude told us doubt room would even', 'time different girl helped us told us room wasnt', 'girl helped us told us room wasnt ready yet', 'upset got upset back us supposedly one working blah', 'hotel would definitely charge us run late dont get', 'sunday theres really reason us come back anymore cant']]\n",
      "rooms : [['canopys reflect noise transfers rooms though conversation this morning', 'management needs put staff rooms listen decibel level might', 'quiet while wood floors rooms great design element adding']]\n",
      "boyfriend : [['i extremely excited stay boyfriend it perfect opportunity middle', 'extremely rude made feel boyfriend i done something wrong', 'us parking hanger cars boyfriend i got left rooms']]\n",
      "ice : [['showers i try grab ice apparently arent ice machines', 'grab ice apparently arent ice machines hotel room floors', 'either go pool bar ice not big deal sees', 'hotel so weve got ice hes showered attempting get']]\n",
      "could : [['clean felt clean traveler could hope hotel room the', 'the staff helpful friendly could tell knew las vegas', 'bed pillows i felt could much comfortablesoft although i']]\n",
      "room : [['took hour half check room ready went go put', 'went go put stuff room found two maids starting', 'saw us trying get room left room mess started', 'trying get room left room mess started arguing the', 'stop arguing finish cleaning room they never returned whole', 'returned whole time clean room clean towels fresh sheets', 'security staying needed get room you shouldnt wait line', 'line night club get room the resort fees high', 'heated ice machine phone room call front desk wifi'], ['take bags way supposed room the cards gave us', 'tried use card another room thinking gave us wrong', 'thinking gave us wrong room number exactly happened then', 'exactly happened then opened room next let front desk', 'know wouldnt book anyone room also inform assigned us', 'inform assigned us wrong room the lady working front', 'desk told us couldnt room wasnt assigned us go', 'get key cards assigned room assigned us could wait', 'keys she brought correct room keys original room supposed', 'correct room keys original room supposed as soon i', 'soon i walked that room smelled cigarettes keep mind', 'hotel nonsmoking i told room smelled i didnt want', 'want so gave back room keys room next one', 'gave back room keys room next one i originally', 'i originally assigned that room weird smell bad room', 'room weird smell bad room next door however every', 'door however every morning room smelled mold i woke', 'terribly oh i got room wet towels left floor', 'floor previous visitors staying room disgusting i asked extra', 'stuff across street way room like just getting hotel', 'oh didnt put name room i got locked also'], ['service check check found room adequate one night you', 'gal offered switch poolside room the differences rooms tower', 'rooms stand walkway outside room smoke like i opted', 'like i opted poolside room i noticed loungenightclub near', 'suitcase drag stairs the room adequate without coffee maker', 'channels acheat worked well room clean bathroom remodeled the', 'bathroom remodeled the side room facing street side made', 'two vouches cups coffee room key i didnt use'], ['nice despite pictures though room gave tower the lady', 'would happy i opted room main building the problem', 'main building the problem room 339 completey overwhelming smell', 'went desk asked another room i told come back', '3pm i noticed couple room next mine vacated way', 'vacated way i asked room smelled bad they said', 'got desk i asked room type mine the desk', 'insisted even though kind room empty cant give made', 'gave key check different room 340 layout awkward window', 'even deal shitty service room okay i dont know']]\n"
     ]
    }
   ],
   "source": [
    "import numpy as np\n",
    "\n",
    "restaurants = np.load('../src/results.npy').item()\n",
    "\n",
    "for key in restaurants.keys():\n",
    "    topics = restaurants[key]\n",
    "    \n",
    "    for topic in topics.keys():\n",
    "        reviews = clean_all_data(topic, topics[topic], 4)\n",
    "        for review in reviews:\n",
    "#             review is a list of sentences\n",
    "#             topic is topic\n",
    "#             sentiment = predict(review)\n",
    "            "
   ]
  },
  {
   "cell_type": "code",
   "execution_count": null,
   "metadata": {},
   "outputs": [],
   "source": []
  },
  {
   "cell_type": "code",
   "execution_count": null,
   "metadata": {},
   "outputs": [],
   "source": []
  }
 ],
 "metadata": {
  "kernelspec": {
   "display_name": "Python 3",
   "language": "python",
   "name": "python3"
  },
  "language_info": {
   "codemirror_mode": {
    "name": "ipython",
    "version": 3
   },
   "file_extension": ".py",
   "mimetype": "text/x-python",
   "name": "python",
   "nbconvert_exporter": "python",
   "pygments_lexer": "ipython3",
   "version": "3.6.4"
  }
 },
 "nbformat": 4,
 "nbformat_minor": 2
}
